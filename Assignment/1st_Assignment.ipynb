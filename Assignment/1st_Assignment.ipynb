{
  "nbformat": 4,
  "nbformat_minor": 0,
  "metadata": {
    "colab": {
      "name": "03. 1st Assignment.ipynb",
      "provenance": [],
      "include_colab_link": true
    },
    "kernelspec": {
      "name": "python3",
      "display_name": "Python 3"
    },
    "language_info": {
      "name": "python"
    }
  },
  "cells": [
    {
      "cell_type": "markdown",
      "metadata": {
        "id": "view-in-github",
        "colab_type": "text"
      },
      "source": [
        "<a href=\"https://colab.research.google.com/github/shakib04/practice_cvpr/blob/main/Assignment/1st_Assignment.ipynb\" target=\"_parent\"><img src=\"https://colab.research.google.com/assets/colab-badge.svg\" alt=\"Open In Colab\"/></a>"
      ]
    },
    {
      "cell_type": "markdown",
      "metadata": {
        "id": "DJC3-wssd-Il"
      },
      "source": [
        "1st Assignment for CVPR"
      ]
    },
    {
      "cell_type": "code",
      "metadata": {
        "id": "mOIkBA62eMj1"
      },
      "source": [
        "import random"
      ],
      "execution_count": 1,
      "outputs": []
    },
    {
      "cell_type": "code",
      "metadata": {
        "id": "pw6SWHCwgb_q"
      },
      "source": [
        "X1 = []\n",
        "X2 = []\n",
        "Y = []\n",
        "\n",
        "for i in range(50):\n",
        "  X1.append(random.randint(0, 100))\n",
        "  X2.append(random.randint(0, 100))\n",
        "  if (X1[i] > X2[i]):\n",
        "    Y.append(1)\n",
        "  else:\n",
        "    Y.append(0)\n"
      ],
      "execution_count": 2,
      "outputs": []
    },
    {
      "cell_type": "code",
      "metadata": {
        "colab": {
          "base_uri": "https://localhost:8080/",
          "height": 265
        },
        "id": "NSo37z7Mgywv",
        "outputId": "a19e6d70-48fe-4ca0-a9b5-b1a8e6283d3e"
      },
      "source": [
        "import matplotlib.pyplot as plt\n",
        "\n",
        "for i in range(len(Y)):\n",
        "    if Y[i] == 0:\n",
        "        plt.plot(X1[i], X2[i], \"r+\")\n",
        "    else:\n",
        "        plt.plot(X1[i], X2[i], \"g+\")"
      ],
      "execution_count": 3,
      "outputs": [
        {
          "output_type": "display_data",
          "data": {
            "image/png": "[encoded data removed]",
            "text/plain": [
              "<Figure size 432x288 with 1 Axes>"
            ]
          },
          "metadata": {
            "needs_background": "light"
          }
        }
      ]
    },
    {
      "cell_type": "code",
      "metadata": {
        "id": "8SLpu6I5hwOI"
      },
      "source": [
        "import matplotlib.pyplot as plt\n",
        "import numpy as np\n",
        "import random\n",
        "import math\n",
        "from IPython import display\n",
        "from scipy.signal import savgol_filter\n"
      ],
      "execution_count": 4,
      "outputs": []
    },
    {
      "cell_type": "code",
      "metadata": {
        "id": "dvhnaeuUR387"
      },
      "source": [
        ""
      ],
      "execution_count": 5,
      "outputs": []
    },
    {
      "cell_type": "code",
      "metadata": {
        "id": "4Iw0jqBoV0jR",
        "colab": {
          "base_uri": "https://localhost:8080/",
          "height": 281
        },
        "outputId": "b4db2374-7d8b-4c74-b4c4-02bc37fb56aa"
      },
      "source": [
        "W = [random.random(), random.random()]\n",
        "b = random.random()\n",
        "lr = 0.0001\n",
        "theta = 0.5\n",
        "epoch = 0\n",
        "count = 0\n",
        "\n",
        "while count < len(Y):\n",
        "  total_error = 0\n",
        "  for i in range(len(Y)):\n",
        "    ws = W[0]*X1[i] + W[1]*X2[i] + b\n",
        "    pred = 0\n",
        "    if ws > theta:\n",
        "      pred = 1\n",
        "    error = Y[i] - pred\n",
        "    if error != 0:\n",
        "      total_error += math.sqrt(error**2)\n",
        "      count = 0\n",
        "      W[0] += error * X1[i] * lr\n",
        "      W[1] += error * X2[i] * lr\n",
        "      b += error*lr   \n",
        "    else:\n",
        "      count += 1\n",
        "  plt.figure()\n",
        "  \n",
        "  display.clear_output(wait=True)\n",
        "  for i in range(len(Y)):\n",
        "    if Y[i] == 0:\n",
        "      plt.plot(X1[i], X2[i], 'r+')\n",
        "    else:\n",
        "      plt.plot(X1[i], X2[i], 'g+')\n",
        " \n",
        "    plt.xlim([0,100])\n",
        "    plt.ylim([0,100])\n",
        "\n",
        "    xint = (theta - b) / W[0]\n",
        "    yint = (theta - b) / W[1]\n",
        "    slope = -yint / xint\n",
        "    x = plt.xlim()\n",
        "    y =  []\n",
        "    for i in x:\n",
        "      y.append(slope*i+ yint)\n",
        "\n",
        "    plt.plot(x, y,)\n",
        "    \n",
        "    ax=plt.axes()\n",
        "    ax.set_facecolor((0.0, 1.0, 0.0, 0.4))\n",
        "    plt.fill_between(x, y, color='#ffaf9d')\n",
        "    plt.title(f\"Epoch = {epoch} Loss = {total_error}\")\n",
        "    \n",
        "  plt.show()\n",
        "  epoch +=1"
      ],
      "execution_count": 6,
      "outputs": [
        {
          "output_type": "display_data",
          "data": {
            "image/png": "[encoded data removed]",
            "text/plain": [
              "<Figure size 432x288 with 1 Axes>"
            ]
          },
          "metadata": {
            "needs_background": "light"
          }
        }
      ]
    },
    {
      "cell_type": "code",
      "metadata": {
        "colab": {
          "base_uri": "https://localhost:8080/"
        },
        "id": "kz5XegZ200-W",
        "outputId": "9c1966c2-2c3d-4b1a-8723-3f03a739c183"
      },
      "source": [
        "W"
      ],
      "execution_count": 7,
      "outputs": [
        {
          "output_type": "execute_result",
          "data": {
            "text/plain": [
              "[0.4452145385746783, -0.40543154261067155]"
            ]
          },
          "metadata": {},
          "execution_count": 7
        }
      ]
    },
    {
      "cell_type": "code",
      "metadata": {
        "id": "juiQ871S5DaP"
      },
      "source": [
        ""
      ],
      "execution_count": null,
      "outputs": []
    }
  ]
}